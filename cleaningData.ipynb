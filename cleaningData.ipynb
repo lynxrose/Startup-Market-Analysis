{
 "cells": [
  {
   "cell_type": "code",
   "execution_count": 62,
   "metadata": {},
   "outputs": [],
   "source": [
    "import datadotworld as dw\n",
    "import pandas as pd\n",
    "import numpy as np"
   ]
  },
  {
   "cell_type": "code",
   "execution_count": 103,
   "metadata": {},
   "outputs": [],
   "source": [
    "acquisitions_df = dw.query(\n",
    "    'lynxrose/startup-analysis',\n",
    "    '''SELECT company_name, acquirer_name, acquirer_category_list,\n",
    "    acquirer_country_code, acquirer_state_code, acquirer_city,\n",
    "    acquired_at, price_amount\n",
    "    FROM acquisitions WHERE company_country_code = 'USA' and price_currency_code = 'USD'\n",
    "    ''')"
   ]
  },
  {
   "cell_type": "code",
   "execution_count": 64,
   "metadata": {},
   "outputs": [],
   "source": [
    "company_df = dw.query(\n",
    "    'lynxrose/startup-analysis',\n",
    "    '''SELECT name, homepage_url, category_list, funding_total_usd, status, \n",
    "    State_code, City, funding_rounds,founded_at, first_funding_at\n",
    "    FROM companies WHERE country_code = 'USA' \n",
    "    ''').dataframe"
   ]
  },
  {
   "cell_type": "code",
   "execution_count": null,
   "metadata": {},
   "outputs": [],
   "source": []
  },
  {
   "cell_type": "code",
   "execution_count": 76,
   "metadata": {},
   "outputs": [],
   "source": [
    " full_df = pd.merge(company_df,acquisitions_df, how='left', left_on=['name'], right_on=['company_name'])"
   ]
  },
  {
   "cell_type": "code",
   "execution_count": null,
   "metadata": {},
   "outputs": [],
   "source": []
  }
 ],
 "metadata": {
  "kernelspec": {
   "display_name": "Python 3",
   "language": "python",
   "name": "python3"
  },
  "language_info": {
   "codemirror_mode": {
    "name": "ipython",
    "version": 3
   },
   "file_extension": ".py",
   "mimetype": "text/x-python",
   "name": "python",
   "nbconvert_exporter": "python",
   "pygments_lexer": "ipython3",
   "version": "3.8.6"
  }
 },
 "nbformat": 4,
 "nbformat_minor": 4
}