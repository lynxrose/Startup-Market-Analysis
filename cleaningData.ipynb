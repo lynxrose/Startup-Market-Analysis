{
 "cells": [
  {
   "cell_type": "code",
   "execution_count": 62,
   "metadata": {},
   "outputs": [],
   "source": [
    "import datadotworld as dw\n",
    "import pandas as pd\n",
    "import numpy as np"
   ]
  },
  {
   "cell_type": "code",
   "execution_count": 103,
   "metadata": {},
   "outputs": [],
   "source": [
    "acquisitions_df = dw.query(\n",
    "    'lynxrose/startup-analysis',\n",
    "    '''SELECT company_name, acquirer_name, acquirer_category_list,\n",
    "    acquirer_country_code, acquirer_state_code, acquirer_city,\n",
    "    acquired_at, price_amount\n",
    "    FROM acquisitions WHERE company_country_code = 'USA' and price_currency_code = 'USD'\n",
    "    ''')"
   ]
  },
  {
   "cell_type": "code",
   "execution_count": 64,
   "metadata": {},
   "outputs": [],
   "source": [
    "company_df = dw.query(\n",
    "    'lynxrose/startup-analysis',\n",
    "    '''SELECT name, homepage_url, category_list, funding_total_usd, status, \n",
    "    State_code, City, funding_rounds,founded_at, first_funding_at\n",
    "    FROM companies WHERE country_code = 'USA' \n",
    "    ''').dataframe"
   ]
  },
  {
   "cell_type": "code",
   "execution_count": 72,
   "metadata": {},
   "outputs": [],
   "source": [
    "company_df['hasWebsite'] = (company_df['homepage_url']!='None').any()"
   ]
  },
  {
   "cell_type": "code",
   "execution_count": 88,
   "metadata": {},
   "outputs": [
    {
     "data": {
      "text/plain": [
       "26553"
      ]
     },
     "execution_count": 88,
     "metadata": {},
     "output_type": "execute_result"
    }
   ],
   "source": [
    "company_df['homepage_url'].str.startswith('http')"
   ]
  },
  {
   "cell_type": "code",
   "execution_count": 100,
   "metadata": {},
   "outputs": [
    {
     "ename": "TypeError",
     "evalue": "bad operand type for unary ~: 'NoneType'",
     "output_type": "error",
     "traceback": [
      "\u001b[0;31m---------------------------------------------------------------------------\u001b[0m",
      "\u001b[0;31mTypeError\u001b[0m                                 Traceback (most recent call last)",
      "\u001b[0;32m<ipython-input-100-679679a22275>\u001b[0m in \u001b[0;36m<module>\u001b[0;34m\u001b[0m\n\u001b[0;32m----> 1\u001b[0;31m \u001b[0mcompany_df\u001b[0m\u001b[0;34m[\u001b[0m\u001b[0;34m'homepage_url'\u001b[0m\u001b[0;34m]\u001b[0m\u001b[0;34m[\u001b[0m\u001b[0;34m~\u001b[0m \u001b[0mcompany_df\u001b[0m\u001b[0;34m[\u001b[0m\u001b[0;34m'homepage_url'\u001b[0m\u001b[0;34m]\u001b[0m\u001b[0;34m.\u001b[0m\u001b[0mstr\u001b[0m\u001b[0;34m.\u001b[0m\u001b[0mstartswith\u001b[0m\u001b[0;34m(\u001b[0m\u001b[0;34m'http'\u001b[0m\u001b[0;34m)\u001b[0m\u001b[0;34m]\u001b[0m\u001b[0;34m\u001b[0m\u001b[0;34m\u001b[0m\u001b[0m\n\u001b[0m",
      "\u001b[0;32m/opt/conda/lib/python3.8/site-packages/pandas/core/generic.py\u001b[0m in \u001b[0;36m__invert__\u001b[0;34m(self)\u001b[0m\n\u001b[1;32m   1322\u001b[0m             \u001b[0mwarnings\u001b[0m\u001b[0;34m.\u001b[0m\u001b[0mwarn\u001b[0m\u001b[0;34m(\u001b[0m\u001b[0mmsg\u001b[0m\u001b[0;34m,\u001b[0m \u001b[0mFutureWarning\u001b[0m\u001b[0;34m,\u001b[0m \u001b[0mstacklevel\u001b[0m\u001b[0;34m=\u001b[0m\u001b[0mstacklevel\u001b[0m \u001b[0;34m+\u001b[0m \u001b[0;36m1\u001b[0m\u001b[0;34m)\u001b[0m\u001b[0;34m\u001b[0m\u001b[0;34m\u001b[0m\u001b[0m\n\u001b[1;32m   1323\u001b[0m             \u001b[0;32mreturn\u001b[0m \u001b[0;32mTrue\u001b[0m\u001b[0;34m\u001b[0m\u001b[0;34m\u001b[0m\u001b[0m\n\u001b[0;32m-> 1324\u001b[0;31m         \u001b[0;32melse\u001b[0m\u001b[0;34m:\u001b[0m\u001b[0;34m\u001b[0m\u001b[0;34m\u001b[0m\u001b[0m\n\u001b[0m\u001b[1;32m   1325\u001b[0m             \u001b[0;32mreturn\u001b[0m \u001b[0;32mFalse\u001b[0m\u001b[0;34m\u001b[0m\u001b[0;34m\u001b[0m\u001b[0m\n\u001b[1;32m   1326\u001b[0m \u001b[0;34m\u001b[0m\u001b[0m\n",
      "\u001b[0;32m/opt/conda/lib/python3.8/site-packages/pandas/core/internals/managers.py\u001b[0m in \u001b[0;36mapply\u001b[0;34m(self, f, align_keys, **kwargs)\u001b[0m\n",
      "\u001b[0;32m/opt/conda/lib/python3.8/site-packages/pandas/core/internals/blocks.py\u001b[0m in \u001b[0;36mapply\u001b[0;34m(self, func, **kwargs)\u001b[0m\n",
      "\u001b[0;31mTypeError\u001b[0m: bad operand type for unary ~: 'NoneType'"
     ]
    }
   ],
   "source": [
    "company_df['homepage_url'][company_df['homepage_url'].str.startswith('http')]"
   ]
  },
  {
   "cell_type": "code",
   "execution_count": 73,
   "metadata": {},
   "outputs": [
    {
     "name": "stdout",
     "output_type": "stream",
     "text": [
      "<class 'pandas.core.frame.DataFrame'>\n",
      "RangeIndex: 7153 entries, 0 to 7152\n",
      "Data columns (total 8 columns):\n",
      " #   Column                  Non-Null Count  Dtype  \n",
      "---  ------                  --------------  -----  \n",
      " 0   company_name            7153 non-null   object \n",
      " 1   acquirer_name           7153 non-null   object \n",
      " 2   acquirer_category_list  6342 non-null   object \n",
      " 3   acquirer_country_code   6802 non-null   object \n",
      " 4   acquirer_state_code     6097 non-null   object \n",
      " 5   acquirer_city           6761 non-null   object \n",
      " 6   acquired_at             7153 non-null   object \n",
      " 7   price_amount            2210 non-null   float64\n",
      "dtypes: float64(1), object(7)\n",
      "memory usage: 447.2+ KB\n"
     ]
    }
   ],
   "source": [
    "acquisitions_df.count()"
   ]
  },
  {
   "cell_type": "code",
   "execution_count": 74,
   "metadata": {},
   "outputs": [
    {
     "name": "stdout",
     "output_type": "stream",
     "text": [
      "<class 'pandas.core.frame.DataFrame'>\n",
      "RangeIndex: 28793 entries, 0 to 28792\n",
      "Data columns (total 11 columns):\n",
      " #   Column             Non-Null Count  Dtype \n",
      "---  ------             --------------  ----- \n",
      " 0   name               28793 non-null  object\n",
      " 1   homepage_url       26553 non-null  object\n",
      " 2   category_list      27032 non-null  object\n",
      " 3   funding_total_usd  28793 non-null  int64 \n",
      " 4   status             28233 non-null  object\n",
      " 5   State_code         28767 non-null  object\n",
      " 6   City               28730 non-null  object\n",
      " 7   funding_rounds     28793 non-null  int64 \n",
      " 8   founded_at         23696 non-null  object\n",
      " 9   first_funding_at   28793 non-null  object\n",
      " 10  hasWebsite         28793 non-null  bool  \n",
      "dtypes: bool(1), int64(2), object(8)\n",
      "memory usage: 2.2+ MB\n"
     ]
    }
   ],
   "source": [
    "company_df.info()"
   ]
  },
  {
   "cell_type": "code",
   "execution_count": 75,
   "metadata": {},
   "outputs": [
    {
     "ename": "ImportError",
     "evalue": "cannot import name 'map' from 'pandas.compat' (/opt/conda/lib/python3.8/site-packages/pandas/compat/__init__.py)",
     "output_type": "error",
     "traceback": [
      "\u001b[0;31m---------------------------------------------------------------------------\u001b[0m",
      "\u001b[0;31mImportError\u001b[0m                               Traceback (most recent call last)",
      "\u001b[0;32m<ipython-input-75-526809ca4899>\u001b[0m in \u001b[0;36m<module>\u001b[0;34m\u001b[0m\n\u001b[0;32m----> 1\u001b[0;31m \u001b[0mcompany_df\u001b[0m\u001b[0;34m.\u001b[0m\u001b[0mdropna\u001b[0m\u001b[0;34m(\u001b[0m\u001b[0msubset\u001b[0m \u001b[0;34m=\u001b[0m \u001b[0;34m[\u001b[0m\u001b[0;34m'status'\u001b[0m\u001b[0;34m]\u001b[0m\u001b[0;34m)\u001b[0m\u001b[0;34m\u001b[0m\u001b[0;34m\u001b[0m\u001b[0m\n\u001b[0m",
      "\u001b[0;32m/opt/conda/lib/python3.8/site-packages/pandas/core/frame.py\u001b[0m in \u001b[0;36mdropna\u001b[0;34m(self, axis, how, thresh, subset, inplace)\u001b[0m\n\u001b[1;32m   5006\u001b[0m         >>> df = pd.DataFrame({'A': ['a', 'b', 'c'],\n\u001b[1;32m   5007\u001b[0m         ...                    'B': ['x', 'y', 'z']})\n\u001b[0;32m-> 5008\u001b[0;31m         \u001b[0;34m>>\u001b[0m\u001b[0;34m>\u001b[0m \u001b[0mnew_df\u001b[0m \u001b[0;34m=\u001b[0m \u001b[0mpd\u001b[0m\u001b[0;34m.\u001b[0m\u001b[0mDataFrame\u001b[0m\u001b[0;34m(\u001b[0m\u001b[0;34m{\u001b[0m\u001b[0;34m'B'\u001b[0m\u001b[0;34m:\u001b[0m \u001b[0;34m[\u001b[0m\u001b[0;34m'd'\u001b[0m\u001b[0;34m,\u001b[0m \u001b[0;34m'e'\u001b[0m\u001b[0;34m,\u001b[0m \u001b[0;34m'f'\u001b[0m\u001b[0;34m,\u001b[0m \u001b[0;34m'g'\u001b[0m\u001b[0;34m,\u001b[0m \u001b[0;34m'h'\u001b[0m\u001b[0;34m,\u001b[0m \u001b[0;34m'i'\u001b[0m\u001b[0;34m]\u001b[0m\u001b[0;34m}\u001b[0m\u001b[0;34m)\u001b[0m\u001b[0;34m\u001b[0m\u001b[0;34m\u001b[0m\u001b[0m\n\u001b[0m\u001b[1;32m   5009\u001b[0m         \u001b[0;34m>>\u001b[0m\u001b[0;34m>\u001b[0m \u001b[0mdf\u001b[0m\u001b[0;34m.\u001b[0m\u001b[0mupdate\u001b[0m\u001b[0;34m(\u001b[0m\u001b[0mnew_df\u001b[0m\u001b[0;34m)\u001b[0m\u001b[0;34m\u001b[0m\u001b[0;34m\u001b[0m\u001b[0m\n\u001b[1;32m   5010\u001b[0m         \u001b[0;34m>>\u001b[0m\u001b[0;34m>\u001b[0m \u001b[0mdf\u001b[0m\u001b[0;34m\u001b[0m\u001b[0;34m\u001b[0m\u001b[0m\n",
      "\u001b[0;32m/opt/conda/lib/python3.8/site-packages/pandas/core/ops/common.py\u001b[0m in \u001b[0;36mnew_method\u001b[0;34m(self, other)\u001b[0m\n",
      "\u001b[0;32m/opt/conda/lib/python3.8/site-packages/pandas/core/ops/__init__.py\u001b[0m in \u001b[0;36mwrapper\u001b[0;34m(self, other)\u001b[0m\n",
      "\u001b[0;32m/opt/conda/lib/python3.8/site-packages/pandas/core/ops/array_ops.py\u001b[0m in \u001b[0;36mcomparison_op\u001b[0;34m(left, right, op)\u001b[0m\n",
      "\u001b[0;32m/opt/conda/lib/python3.8/site-packages/pandas/core/ops/array_ops.py\u001b[0m in \u001b[0;36mna_arithmetic_op\u001b[0;34m(left, right, op, is_cmp)\u001b[0m\n",
      "\u001b[0;32m/opt/conda/lib/python3.8/site-packages/pandas/core/computation/expressions.py\u001b[0m in \u001b[0;36m<module>\u001b[0;34m\u001b[0m\n\u001b[1;32m     12\u001b[0m \u001b[0;32mimport\u001b[0m \u001b[0mpandas\u001b[0m\u001b[0;34m.\u001b[0m\u001b[0mcore\u001b[0m\u001b[0;34m.\u001b[0m\u001b[0mcommon\u001b[0m \u001b[0;32mas\u001b[0m \u001b[0mcom\u001b[0m\u001b[0;34m\u001b[0m\u001b[0;34m\u001b[0m\u001b[0m\n\u001b[1;32m     13\u001b[0m \u001b[0;32mfrom\u001b[0m \u001b[0mpandas\u001b[0m\u001b[0;34m.\u001b[0m\u001b[0mcore\u001b[0m\u001b[0;34m.\u001b[0m\u001b[0mcomputation\u001b[0m\u001b[0;34m.\u001b[0m\u001b[0mcheck\u001b[0m \u001b[0;32mimport\u001b[0m \u001b[0m_NUMEXPR_INSTALLED\u001b[0m\u001b[0;34m\u001b[0m\u001b[0;34m\u001b[0m\u001b[0m\n\u001b[0;32m---> 14\u001b[0;31m \u001b[0;32mfrom\u001b[0m \u001b[0mpandas\u001b[0m\u001b[0;34m.\u001b[0m\u001b[0mcore\u001b[0m\u001b[0;34m.\u001b[0m\u001b[0mconfig\u001b[0m \u001b[0;32mimport\u001b[0m \u001b[0mget_option\u001b[0m\u001b[0;34m\u001b[0m\u001b[0;34m\u001b[0m\u001b[0m\n\u001b[0m\u001b[1;32m     15\u001b[0m \u001b[0;34m\u001b[0m\u001b[0m\n\u001b[1;32m     16\u001b[0m \u001b[0;32mif\u001b[0m \u001b[0m_NUMEXPR_INSTALLED\u001b[0m\u001b[0;34m:\u001b[0m\u001b[0;34m\u001b[0m\u001b[0;34m\u001b[0m\u001b[0m\n",
      "\u001b[0;32m/opt/conda/lib/python3.8/site-packages/pandas/core/config.py\u001b[0m in \u001b[0;36m<module>\u001b[0;34m\u001b[0m\n\u001b[1;32m     54\u001b[0m \u001b[0;32mfrom\u001b[0m \u001b[0mcontextlib\u001b[0m \u001b[0;32mimport\u001b[0m \u001b[0mcontextmanager\u001b[0m\u001b[0;34m\u001b[0m\u001b[0;34m\u001b[0m\u001b[0m\n\u001b[1;32m     55\u001b[0m \u001b[0;32mimport\u001b[0m \u001b[0mwarnings\u001b[0m\u001b[0;34m\u001b[0m\u001b[0;34m\u001b[0m\u001b[0m\n\u001b[0;32m---> 56\u001b[0;31m \u001b[0;32mfrom\u001b[0m \u001b[0mpandas\u001b[0m\u001b[0;34m.\u001b[0m\u001b[0mcompat\u001b[0m \u001b[0;32mimport\u001b[0m \u001b[0mmap\u001b[0m\u001b[0;34m,\u001b[0m \u001b[0mlmap\u001b[0m\u001b[0;34m,\u001b[0m \u001b[0mu\u001b[0m\u001b[0;34m\u001b[0m\u001b[0;34m\u001b[0m\u001b[0m\n\u001b[0m\u001b[1;32m     57\u001b[0m \u001b[0;32mimport\u001b[0m \u001b[0mpandas\u001b[0m\u001b[0;34m.\u001b[0m\u001b[0mcompat\u001b[0m \u001b[0;32mas\u001b[0m \u001b[0mcompat\u001b[0m\u001b[0;34m\u001b[0m\u001b[0;34m\u001b[0m\u001b[0m\n\u001b[1;32m     58\u001b[0m \u001b[0;34m\u001b[0m\u001b[0m\n",
      "\u001b[0;31mImportError\u001b[0m: cannot import name 'map' from 'pandas.compat' (/opt/conda/lib/python3.8/site-packages/pandas/compat/__init__.py)"
     ]
    }
   ],
   "source": [
    "company_df.dropna(subset = ['status'])"
   ]
  },
  {
   "cell_type": "code",
   "execution_count": null,
   "metadata": {},
   "outputs": [],
   "source": []
  },
  {
   "cell_type": "code",
   "execution_count": 76,
   "metadata": {},
   "outputs": [],
   "source": [
    " full_df = pd.merge(company_df,acquisitions_df, how='left', left_on=['name'], right_on=['company_name'])"
   ]
  },
  {
   "cell_type": "code",
   "execution_count": 101,
   "metadata": {},
   "outputs": [
    {
     "ename": "ImportError",
     "evalue": "cannot import name 'lzip' from 'pandas.compat' (/opt/conda/lib/python3.8/site-packages/pandas/compat/__init__.py)",
     "output_type": "error",
     "traceback": [
      "\u001b[0;31m---------------------------------------------------------------------------\u001b[0m",
      "\u001b[0;31mImportError\u001b[0m                               Traceback (most recent call last)",
      "\u001b[0;32m/opt/conda/lib/python3.8/site-packages/IPython/core/formatters.py\u001b[0m in \u001b[0;36m__call__\u001b[0;34m(self, obj)\u001b[0m\n\u001b[1;32m    343\u001b[0m             \u001b[0mmethod\u001b[0m \u001b[0;34m=\u001b[0m \u001b[0mget_real_method\u001b[0m\u001b[0;34m(\u001b[0m\u001b[0mobj\u001b[0m\u001b[0;34m,\u001b[0m \u001b[0mself\u001b[0m\u001b[0;34m.\u001b[0m\u001b[0mprint_method\u001b[0m\u001b[0;34m)\u001b[0m\u001b[0;34m\u001b[0m\u001b[0;34m\u001b[0m\u001b[0m\n\u001b[1;32m    344\u001b[0m             \u001b[0;32mif\u001b[0m \u001b[0mmethod\u001b[0m \u001b[0;32mis\u001b[0m \u001b[0;32mnot\u001b[0m \u001b[0;32mNone\u001b[0m\u001b[0;34m:\u001b[0m\u001b[0;34m\u001b[0m\u001b[0;34m\u001b[0m\u001b[0m\n\u001b[0;32m--> 345\u001b[0;31m                 \u001b[0;32mreturn\u001b[0m \u001b[0mmethod\u001b[0m\u001b[0;34m(\u001b[0m\u001b[0;34m)\u001b[0m\u001b[0;34m\u001b[0m\u001b[0;34m\u001b[0m\u001b[0m\n\u001b[0m\u001b[1;32m    346\u001b[0m             \u001b[0;32mreturn\u001b[0m \u001b[0;32mNone\u001b[0m\u001b[0;34m\u001b[0m\u001b[0;34m\u001b[0m\u001b[0m\n\u001b[1;32m    347\u001b[0m         \u001b[0;32melse\u001b[0m\u001b[0;34m:\u001b[0m\u001b[0;34m\u001b[0m\u001b[0;34m\u001b[0m\u001b[0m\n",
      "\u001b[0;32m/opt/conda/lib/python3.8/site-packages/pandas/core/frame.py\u001b[0m in \u001b[0;36m_repr_html_\u001b[0;34m(self)\u001b[0m\n\u001b[1;32m    796\u001b[0m \u001b[0;34m\u001b[0m\u001b[0m\n\u001b[1;32m    797\u001b[0m         \u001b[0mSee\u001b[0m \u001b[0malso\u001b[0m\u001b[0;34m\u001b[0m\u001b[0;34m\u001b[0m\u001b[0m\n\u001b[0;32m--> 798\u001b[0;31m         \u001b[0;34m-\u001b[0m\u001b[0;34m-\u001b[0m\u001b[0;34m-\u001b[0m\u001b[0;34m-\u001b[0m\u001b[0;34m-\u001b[0m\u001b[0;34m-\u001b[0m\u001b[0;34m-\u001b[0m\u001b[0;34m-\u001b[0m\u001b[0;34m\u001b[0m\u001b[0;34m\u001b[0m\u001b[0m\n\u001b[0m\u001b[1;32m    799\u001b[0m         \u001b[0miterrows\u001b[0m \u001b[0;34m:\u001b[0m \u001b[0mIterate\u001b[0m \u001b[0mover\u001b[0m \u001b[0mDataFrame\u001b[0m \u001b[0mrows\u001b[0m \u001b[0;32mas\u001b[0m \u001b[0;34m(\u001b[0m\u001b[0mindex\u001b[0m\u001b[0;34m,\u001b[0m \u001b[0mSeries\u001b[0m\u001b[0;34m)\u001b[0m \u001b[0mpairs\u001b[0m\u001b[0;34m.\u001b[0m\u001b[0;34m\u001b[0m\u001b[0;34m\u001b[0m\u001b[0m\n\u001b[1;32m    800\u001b[0m         \u001b[0miteritems\u001b[0m \u001b[0;34m:\u001b[0m \u001b[0mIterate\u001b[0m \u001b[0mover\u001b[0m \u001b[0;34m(\u001b[0m\u001b[0mcolumn\u001b[0m \u001b[0mname\u001b[0m\u001b[0;34m,\u001b[0m \u001b[0mSeries\u001b[0m\u001b[0;34m)\u001b[0m \u001b[0mpairs\u001b[0m\u001b[0;34m.\u001b[0m\u001b[0;34m\u001b[0m\u001b[0;34m\u001b[0m\u001b[0m\n",
      "\u001b[0;32m/opt/conda/lib/python3.8/site-packages/pandas/io/formats/format.py\u001b[0m in \u001b[0;36mto_html\u001b[0;34m(self, buf, encoding, classes, notebook, border)\u001b[0m\n\u001b[1;32m    983\u001b[0m         \u001b[0;32mif\u001b[0m \u001b[0mfloat_format\u001b[0m \u001b[0;32mis\u001b[0m \u001b[0;32mNone\u001b[0m\u001b[0;34m:\u001b[0m\u001b[0;34m\u001b[0m\u001b[0;34m\u001b[0m\u001b[0m\n\u001b[1;32m    984\u001b[0m             \u001b[0mfloat_format\u001b[0m \u001b[0;34m=\u001b[0m \u001b[0mself\u001b[0m\u001b[0;34m.\u001b[0m\u001b[0mfloat_format\u001b[0m\u001b[0;34m\u001b[0m\u001b[0;34m\u001b[0m\u001b[0m\n\u001b[0;32m--> 985\u001b[0;31m \u001b[0;34m\u001b[0m\u001b[0m\n\u001b[0m\u001b[1;32m    986\u001b[0m         \u001b[0;31m# we are going to compose different functions, to first convert to\u001b[0m\u001b[0;34m\u001b[0m\u001b[0;34m\u001b[0m\u001b[0;34m\u001b[0m\u001b[0m\n\u001b[1;32m    987\u001b[0m         \u001b[0;31m# a string, then replace the decimal symbol, and finally chop according\u001b[0m\u001b[0;34m\u001b[0m\u001b[0;34m\u001b[0m\u001b[0;34m\u001b[0m\u001b[0m\n",
      "\u001b[0;32m/opt/conda/lib/python3.8/site-packages/pandas/io/formats/html.py\u001b[0m in \u001b[0;36m<module>\u001b[0;34m\u001b[0m\n\u001b[1;32m     12\u001b[0m \u001b[0;32mfrom\u001b[0m \u001b[0mpandas\u001b[0m\u001b[0;34m.\u001b[0m\u001b[0mcore\u001b[0m\u001b[0;34m.\u001b[0m\u001b[0mindex\u001b[0m \u001b[0;32mimport\u001b[0m \u001b[0mMultiIndex\u001b[0m\u001b[0;34m\u001b[0m\u001b[0;34m\u001b[0m\u001b[0m\n\u001b[1;32m     13\u001b[0m \u001b[0;32mfrom\u001b[0m \u001b[0mpandas\u001b[0m \u001b[0;32mimport\u001b[0m \u001b[0mcompat\u001b[0m\u001b[0;34m\u001b[0m\u001b[0;34m\u001b[0m\u001b[0m\n\u001b[0;32m---> 14\u001b[0;31m from pandas.compat import (lzip, range, map, zip, u,\n\u001b[0m\u001b[1;32m     15\u001b[0m                            OrderedDict, unichr)\n\u001b[1;32m     16\u001b[0m \u001b[0;32mfrom\u001b[0m \u001b[0mpandas\u001b[0m\u001b[0;34m.\u001b[0m\u001b[0mcore\u001b[0m\u001b[0;34m.\u001b[0m\u001b[0mconfig\u001b[0m \u001b[0;32mimport\u001b[0m \u001b[0mget_option\u001b[0m\u001b[0;34m\u001b[0m\u001b[0;34m\u001b[0m\u001b[0m\n",
      "\u001b[0;31mImportError\u001b[0m: cannot import name 'lzip' from 'pandas.compat' (/opt/conda/lib/python3.8/site-packages/pandas/compat/__init__.py)"
     ]
    },
    {
     "data": {
      "text/plain": [
       "                                 name                        homepage_url  \\\n",
       "0                            #waywire              http://www.waywire.com   \n",
       "1                  &TV Communications               http://enjoyandtv.com   \n",
       "2                          CornerBlue               http://cornerblue.com   \n",
       "3                Cornerstone OnDemand  http://www.cornerstoneondemand.com   \n",
       "4         Cornerstone Pharmaceuticals    http://www.cornerstonepharma.com   \n",
       "5              Cornerstone Properties                                None   \n",
       "6            Cornerstone Therapeutics                 http://www.crtx.com   \n",
       "7                             Cornice            http://www.corniceco.com   \n",
       "8                             CorNova              http://www.cornova.com   \n",
       "9                         Coro Health           http://www.corohealth.com   \n",
       "10                        Corona Labs           http://www.coronalabs.com   \n",
       "11               Coronado Biosciences  http://www.coronadobiosciences.com   \n",
       "12                             Addapp                  https://addapp.io/   \n",
       "13                             CORP80              http://www.corp80.com/   \n",
       "14                            Corpora                                None   \n",
       "15                    Corporate Times                                None   \n",
       "16                           Corpsolv                                None   \n",
       "17                              CorpU                http://www.corpu.com   \n",
       "18  Correctional Healthcare Companies           http://correctioncare.com   \n",
       "19                         CorrectNet           http://www.correctnet.com   \n",
       "20      Correlated Magnetics Research  http://www.correlatedmagnetics.com   \n",
       "21                           Correlix             http://www.correlix.com   \n",
       "22                        Correlsense          http://www.correlsense.com   \n",
       "23                             Correx                http://correxinc.com   \n",
       "24           Corridor Pharmaceuticals       http://www.corridorpharma.com   \n",
       "25      Corrigan and Aburn Sportswear        http://www.casportswear.com/   \n",
       "26                            Corrigo              http://www.corrigo.com   \n",
       "27                            Addepar              http://www.addepar.com   \n",
       "28                       Corrupt Lace                                None   \n",
       "29                            Corsair              http://www.corsair.com   \n",
       "\n",
       "                                        category_list  funding_total_usd  \\\n",
       "0          |Entertainment|Politics|Social Media|News|            1750000   \n",
       "1                                             |Games|            4000000   \n",
       "2                                |Advertising|Mobile|             300000   \n",
       "3            |Enterprises|Career Management|Software|           44700000   \n",
       "4                                     |Biotechnology|           19179100   \n",
       "5                                       |Real Estate|                  0   \n",
       "6                                     |Biotechnology|           30000000   \n",
       "7                               |Hardware + Software|          148000000   \n",
       "8                                     |Biotechnology|            7885000   \n",
       "9                               |Health and Wellness|            2000000   \n",
       "10   |Software|Apps|Games|Android|iPad|iPhone|Mobile|            3000000   \n",
       "11        |Health Care|Pharmaceuticals|Biotechnology|           62758534   \n",
       "12  |Software|Health and Wellness|Personal Health|...            1800000   \n",
       "13                                     |Social Media|             100000   \n",
       "14                                               None              15000   \n",
       "15                                      |Real Estate|                  0   \n",
       "16                                       |Consulting|                  0   \n",
       "17                                     |Social Media|            4500000   \n",
       "18                                    |Biotechnology|           10653722   \n",
       "19                                        |Analytics|            3370000   \n",
       "20                              |Hardware + Software|           10451365   \n",
       "21                              |Enterprise Software|           11400000   \n",
       "22                                         |Software|           21000000   \n",
       "23                                      |Health Care|            6550000   \n",
       "24                                    |Biotechnology|           27620904   \n",
       "25                                          |Fashion|                  0   \n",
       "26                                         |Software|           20000000   \n",
       "27                                     |SaaS|Finance|           65839694   \n",
       "28                                               None               1750   \n",
       "29                              |Hardware + Software|           75000000   \n",
       "\n",
       "       status State_code               City  funding_rounds  founded_at  \\\n",
       "0    acquired         NY           New York               1  2012-06-01   \n",
       "1   operating         CA        Los Angeles               2        None   \n",
       "2   operating         CA       Santa Monica               1  2006-02-22   \n",
       "3   operating         CA       Santa Monica               2  1999-11-01   \n",
       "4   operating         NJ           Cranbury               4  2000-01-01   \n",
       "5   operating         WA         Marysville               1  1996-02-28   \n",
       "6   operating         NC               Cary               1        None   \n",
       "7   operating         CO           Longmont               2  2000-08-21   \n",
       "8   operating         MA         Burlington               3  2003-10-01   \n",
       "9   operating         TX             Austin               1        None   \n",
       "10   acquired         CA          Palo Alto               3  2008-01-01   \n",
       "11  operating         WA            Seattle               5  2006-01-01   \n",
       "12  operating         CA      San Francisco               1  2014-04-03   \n",
       "13  operating         OH           Delaware               1  2012-01-01   \n",
       "14  operating         TN        Chattanooga               1        None   \n",
       "15  operating         CA          San Diego               1  2005-05-06   \n",
       "16  operating         NJ         Middletown               1  2001-01-01   \n",
       "17  operating         PA      Mechanicsburg               1        None   \n",
       "18  operating         CO  Greenwood Village               2  2006-01-01   \n",
       "19   acquired         NY          Hauppauge               2  1997-01-01   \n",
       "20  operating         AL         Huntsville               1  2008-01-01   \n",
       "21     closed         NY           New York               4  2006-01-01   \n",
       "22  operating         MA         Framingham               6  2005-01-01   \n",
       "23  operating         MA            Waltham               3        None   \n",
       "24  operating         MD             Towson               4  2007-01-01   \n",
       "25  operating         MD          Baltimore               1  1994-01-31   \n",
       "26  operating         OR           Tualatin               2  1999-01-01   \n",
       "27  operating         CA      Mountain View               2  2009-01-01   \n",
       "28  operating         TX            Houston               1  2014-05-21   \n",
       "29  operating         CA            Fremont               1  1994-01-01   \n",
       "\n",
       "   first_funding_at  hasWebsite company_name      acquirer_name  \\\n",
       "0        2012-06-30        True     #waywire   Waywire Networks   \n",
       "1        2010-06-04        True          NaN                NaN   \n",
       "2        2011-01-06        True          NaN                NaN   \n",
       "3        2007-09-17        True          NaN                NaN   \n",
       "4        2008-12-15        True          NaN                NaN   \n",
       "5        2013-10-23        True          NaN                NaN   \n",
       "6        2012-07-02        True          NaN                NaN   \n",
       "7        2004-02-27        True          NaN                NaN   \n",
       "8        2009-12-11        True          NaN                NaN   \n",
       "9        2010-11-10        True          NaN                NaN   \n",
       "10       2009-12-01        True  Corona Labs  Fuse Powered Inc.   \n",
       "11       2009-08-04        True          NaN                NaN   \n",
       "12       2014-04-04        True          NaN                NaN   \n",
       "13       2012-11-03        True          NaN                NaN   \n",
       "14       2012-06-01        True          NaN                NaN   \n",
       "15       2012-05-16        True          NaN                NaN   \n",
       "16       2008-12-08        True          NaN                NaN   \n",
       "17       2012-09-26        True          NaN                NaN   \n",
       "18       2010-06-22        True          NaN                NaN   \n",
       "19       2008-06-03        True   CorrectNet           VistaOne   \n",
       "20       2012-09-27        True          NaN                NaN   \n",
       "21       2005-02-19        True          NaN                NaN   \n",
       "22       2007-07-02        True          NaN                NaN   \n",
       "23       2011-02-22        True          NaN                NaN   \n",
       "24       2008-10-23        True          NaN                NaN   \n",
       "25       2011-01-04        True          NaN                NaN   \n",
       "26       2005-06-02        True          NaN                NaN   \n",
       "27       2011-06-15        True          NaN                NaN   \n",
       "28       2014-05-20        True          NaN                NaN   \n",
       "29       2013-05-06        True          NaN                NaN   \n",
       "\n",
       "                               acquirer_category_list acquirer_country_code  \\\n",
       "0                                 |Curated Web|Video|                   USA   \n",
       "1                                                 NaN                   NaN   \n",
       "2                                                 NaN                   NaN   \n",
       "3                                                 NaN                   NaN   \n",
       "4                                                 NaN                   NaN   \n",
       "5                                                 NaN                   NaN   \n",
       "6                                                 NaN                   NaN   \n",
       "7                                                 NaN                   NaN   \n",
       "8                                                 NaN                   NaN   \n",
       "9                                                 NaN                   NaN   \n",
       "10  |Mobile Analytics|Mobile Advertising|Mobile Ga...                   CAN   \n",
       "11                                                NaN                   NaN   \n",
       "12                                                NaN                   NaN   \n",
       "13                                                NaN                   NaN   \n",
       "14                                                NaN                   NaN   \n",
       "15                                                NaN                   NaN   \n",
       "16                                                NaN                   NaN   \n",
       "17                                                NaN                   NaN   \n",
       "18                                                NaN                   NaN   \n",
       "19                                               None                   USA   \n",
       "20                                                NaN                   NaN   \n",
       "21                                                NaN                   NaN   \n",
       "22                                                NaN                   NaN   \n",
       "23                                                NaN                   NaN   \n",
       "24                                                NaN                   NaN   \n",
       "25                                                NaN                   NaN   \n",
       "26                                                NaN                   NaN   \n",
       "27                                                NaN                   NaN   \n",
       "28                                                NaN                   NaN   \n",
       "29                                                NaN                   NaN   \n",
       "\n",
       "   acquirer_state_code acquirer_city acquired_at  price_amount  \n",
       "0                   NY      New York  2013-10-17           NaN  \n",
       "1                  NaN           NaN         NaN           NaN  \n",
       "2                  NaN           NaN         NaN           NaN  \n",
       "3                  NaN           NaN         NaN           NaN  \n",
       "4                  NaN           NaN         NaN           NaN  \n",
       "5                  NaN           NaN         NaN           NaN  \n",
       "6                  NaN           NaN         NaN           NaN  \n",
       "7                  NaN           NaN         NaN           NaN  \n",
       "8                  NaN           NaN         NaN           NaN  \n",
       "9                  NaN           NaN         NaN           NaN  \n",
       "10                  ON       Toronto  2014-11-04           NaN  \n",
       "11                 NaN           NaN         NaN           NaN  \n",
       "12                 NaN           NaN         NaN           NaN  \n",
       "13                 NaN           NaN         NaN           NaN  \n",
       "14                 NaN           NaN         NaN           NaN  \n",
       "15                 NaN           NaN         NaN           NaN  \n",
       "16                 NaN           NaN         NaN           NaN  \n",
       "17                 NaN           NaN         NaN           NaN  \n",
       "18                 NaN           NaN         NaN           NaN  \n",
       "19                  CA   Santa Clara  2011-05-18           NaN  \n",
       "20                 NaN           NaN         NaN           NaN  \n",
       "21                 NaN           NaN         NaN           NaN  \n",
       "22                 NaN           NaN         NaN           NaN  \n",
       "23                 NaN           NaN         NaN           NaN  \n",
       "24                 NaN           NaN         NaN           NaN  \n",
       "25                 NaN           NaN         NaN           NaN  \n",
       "26                 NaN           NaN         NaN           NaN  \n",
       "27                 NaN           NaN         NaN           NaN  \n",
       "28                 NaN           NaN         NaN           NaN  \n",
       "29                 NaN           NaN         NaN           NaN  "
      ]
     },
     "execution_count": 101,
     "metadata": {},
     "output_type": "execute_result"
    }
   ],
   "source": [
    "full_df.head(30)"
   ]
  },
  {
   "cell_type": "code",
   "execution_count": null,
   "metadata": {},
   "outputs": [],
   "source": []
  }
 ],
 "metadata": {
  "kernelspec": {
   "display_name": "Python 3",
   "language": "python",
   "name": "python3"
  },
  "language_info": {
   "codemirror_mode": {
    "name": "ipython",
    "version": 3
   },
   "file_extension": ".py",
   "mimetype": "text/x-python",
   "name": "python",
   "nbconvert_exporter": "python",
   "pygments_lexer": "ipython3",
   "version": "3.8.6"
  }
 },
 "nbformat": 4,
 "nbformat_minor": 4
}
