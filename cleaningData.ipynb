{
 "cells": [
  {
   "cell_type": "code",
   "execution_count": 34,
   "metadata": {},
   "outputs": [],
   "source": [
    "import datadotworld as dw\n",
    "import pandas as pd\n",
    "import numpy as np"
   ]
  },
  {
   "cell_type": "code",
   "execution_count": 40,
   "metadata": {},
   "outputs": [],
   "source": [
    "acquisitions_df = dw.query(\n",
    "    'lynxrose/startup-analysis',\n",
    "    '''SELECT company_name,\n",
    "    acquired_at, price_amount\n",
    "    FROM acquisitions WHERE company_country_code = 'USA' and price_currency_code = 'USD'\n",
    "    ''').dataframe"
   ]
  },
  {
   "cell_type": "code",
   "execution_count": 41,
   "metadata": {},
   "outputs": [],
   "source": [
    "company_df = dw.query(\n",
    "    'lynxrose/startup-analysis',\n",
    "    '''SELECT name, market, funding_total_usd, status, funding_rounds,\n",
    "    State_code, City,founded_at\n",
    "    FROM companies WHERE country_code = 'USA' \n",
    "    ''').dataframe"
   ]
  },
  {
   "cell_type": "code",
   "execution_count": 42,
   "metadata": {},
   "outputs": [],
   "source": [
    " full_df = pd.merge(company_df,acquisitions_df, how='left', left_on=['name'], right_on=['company_name'])"
   ]
  },
  {
   "cell_type": "code",
   "execution_count": 43,
   "metadata": {},
   "outputs": [],
   "source": [
    "medical = ['Medical','Pharmaceuticals','Biotechnology','Health Care','Health and Wellness','Bio-Pharm','Medical Devices','Health Care Information Technology','Genetic Testing','Electronic Health Records','Bioinformatics','Healthcare Services','Hospitals','Physicians','Therapeutics','Clinical Trials','Health and Insurance','Dental','Medical Professionals','Diagnostics','Diabetes','Psychology','Medical Marijuana Patients','Doctors','Senior Health','Elder Care','mHealth','Synthetic Biology','Biometrics']\n",
    "\n",
    "manufacuring = ['Manufacturing','Automotive', 'Cars', 'Embedded Hardware and Software','Semiconductors','Sensors','Communications Hardware','Residential Solar','Mobile Devices','Clean Energy','Environmental Innovation','Heavy Industry','Industrial Automation','Nanotechnology','Computers','Commercial Solar','Biotechnology and Semiconductor','Industrial','Semiconductor Manufacturing Equipment','Boating Industry','Wind','Solar']\n",
    "\n",
    "federal_contracting = ['Federal_Contracting','Law Enforcement','Governments','Ticketing','DOD/Military','Governance','Government Innovation']\n",
    "\n",
    "renting = ['Renting','Data Centers','Realtors','Vacation Rentals','Music Venues','Self Storage','Office Space','Timeshares','Parking','Rental Housing','Real Estate','Commercial Real Estate','Outdoor Advertising']\n",
    "\n",
    "fitness = ['Fitness','Sports','Training','Self Development','Nutrition','Exercise','Personal Health','Lifestyle']\n",
    "\n",
    "science_and_engineering = ['Science_and_Engineering','Aerospace','Space Travel','Robotics','Life Sciences','Neuroscience','Material Science','Renewable Energies','Energy','Humanitarian','Engineering Firms','Energy Management','Energy Efficiency','Green','Energy IT','Water Purification','Industrial Energy Efficiency','Renewable Tech','Natural Resources','Sustainability','Mechanical Solutions']\n",
    "\n",
    "transportation = ['Transportation','Distribution','Public Transportation','Shipping','Postal and Courier Services','Distributors','Recycling']\n",
    "\n",
    "banking = ['Banking','Credit','Credit Cards','Venture Capital','Financial Services','Accounting','Insurance','Retirement','Brokers','Home Owners','Angels','Real Estate Investors','Hedge Funds']\n",
    "\n",
    "labor = ['Labor','Agriculture','Construction','Home & Garden','Home Renovation','Food Processing','Architecture','Farming']\n",
    "\n",
    "gaming = ['Gaming','Games','Entertainment','Video Games','Gambling','Fantasy Sports','Educational Games','Online Gaming','MMO Games','PC Gaming','Game','Entertainment Industry','Game Mechanics','FreetoPlay Gaming','Digital Entertainment']\n",
    "\n",
    "art = ['Art','Design','Fashion','Photography','Art','Indoor Positioning','Music Services','Audio','Graphics','Film','Product Design','Content Creators','Interior Design','Lighting','Writers','Creative Industries','Designers','Recipes','Music','Creative','Film Production','News','Publishing','Journalism']\n",
    "\n",
    "service = ['Service','Hospitality','Travel','Customer Service','Hotels','Weddings','Funeral Industry','Pets','Leisure','Concerts','Adventure Travel','Tourism','Social Travel','Taxis','Travel & Tourism','Service Industries','Nightclubs','Senior Citizens','Cosmetic Surgery','Plumbers','Cooking','Restaurants','Personal Finance']\n",
    "\n",
    "corporate_services = ['Corporate_Services','Property Management','Digital Rights Management','Legal','Services','Personal Branding','Business Services','Logistics','Consulting','Investment Management','Wealth Management','Supply Chain Management','CRM','Intellectual Asset Management','Recruiting','Unifed Communications','Loyalty Programs','Promotional','Reputation','Market Research','Price Comparison','Project Management','Human Resources','Infrastructure','Product Development Services','Innovation Management','Corporate Wellness','Professional Services','Monetization','Incentives','Logistics Company','Career Planning','Content Delivery','Corporate IT','Enterprise Resource Planning','Collaborative Consumption','Contact Management','Performance Marketing','Opinions','Corporate Training','Business Productivity','Risk Management', 'Licensing','Lead Generation','Offline Businesses','Business Development','Lead Management','Bridging Online and Offline','Employer Benefits Programs','Classifieds','IT Management','Direct Marketing','Advertising Exchanges','Sponsorship','Knowledge Management','Staffing Firms','Fleet Management','Estimation and Quoting','Franchises','Procurement','Translation','Polling','Brand Marketing','Quantitative Marketing','Billing','Career Management','Public Relations','Freelancers']\n",
    "\n",
    "remove_list = ['Other','Local Businesses','Small and Medium Businesses','Local','Startups','Enterprises','Location Based Services','Communities','Consumers','Synchronization','Advice','Outdoors','Radical Breakthrough Startups','Rapidly Expanding','All Markets','Employment','Lifestyle Businesses','DIY','World Domination','Q&A','Contests','Baby Boomers','Multi-level Marketing','Emerging Markets','Moneymaking','Women','Real Time','Ediscovery','Freemium','Enterprise 2.0','Advanced Materials','Politics','nan','Celebrity','Coworking','Entrepreneur']\n",
    "\n",
    "retail = ['Retail','Shoes','Consumer Electronics','Auctions','Oil & Gas','Oil and Gas','Displays','Sporting Goods','Cosmetics', 'Electronics','Drones','Consumer Goods','Gift Card','Wine And Spirits','Water','Organic','Utilities','Home Automation','Home Decor','Green Consumer Goods','Beauty','Batteries','Animal Feed','Groceries','Commodities','Golf Equipment','Organic Food','Specialty Foods','Craft Beer','Oil','Specialty Chemicals','Chemicals','Textiles','Tablets','Gas','Bicycles','Farmers Market','Auto','Auto','Toys', 'Tea','Jewelry','Specialty Retail','Textbooks','Dietary Supplements','Twin-Tip Skis','Lifestyle Products','Sunglasses','Baby Accessories','Electric Vehicles','Coffee','Spas']\n",
    "\n",
    "education = ['Education','Colleges','Teachers','Kids','Tutoring','K-12 Education','High Schools','Technical Continuing Education','All Students','Guides','Skill Assessment','Incubators','Charter Schools','College Recruiting','Alumni','Certification Test','Defense','Language Learning','Testing','English-Speaking','Universities','Registrars','Test and Measurement','Babies','College Campuses','Religion', 'Parenting','Families']\n",
    "\n",
    "nonprofit = ['Nonprofits','Non Profit','Charity']\n",
    "\n",
    "market_list = [education,nonprofit,retail,remove_list,corporate_services,service, art, gaming, labor, banking, transportation, science_and_engineering,fitness, renting, federal_contracting, manufacuring, medical]\n"
   ]
  },
  {
   "cell_type": "code",
   "execution_count": 44,
   "metadata": {},
   "outputs": [],
   "source": [
    "def market_simplifier(string):\n",
    "    found = False\n",
    "    for market in market_list:\n",
    "        if string in market:\n",
    "            found = True\n",
    "            return market[0]\n",
    "    if found == False:\n",
    "        return 'Online_Tech'"
   ]
  },
  {
   "cell_type": "code",
   "execution_count": 45,
   "metadata": {},
   "outputs": [],
   "source": [
    "full_df['market'] = full_df['market'].apply(market_simplifier)"
   ]
  },
  {
   "cell_type": "code",
   "execution_count": 26,
   "metadata": {},
   "outputs": [
    {
     "output_type": "execute_result",
     "data": {
      "text/plain": [
       "7400"
      ]
     },
     "metadata": {},
     "execution_count": 26
    }
   ],
   "source": [
    "full_df.mask(full_df.eq('None')).dropna().size"
   ]
  },
  {
   "cell_type": "code",
   "execution_count": 46,
   "metadata": {},
   "outputs": [
    {
     "output_type": "execute_result",
     "data": {
      "text/plain": [
       "                              name              market  funding_total_usd  \\\n",
       "0                         #waywire                 Art            1750000   \n",
       "1               &TV Communications              Gaming            4000000   \n",
       "2                       CornerBlue         Online_Tech             300000   \n",
       "3             Cornerstone OnDemand  Corporate_Services           44700000   \n",
       "4      Cornerstone Pharmaceuticals             Medical           19179100   \n",
       "...                            ...                 ...                ...   \n",
       "28894         Corium International             Medical           40000000   \n",
       "28895                      CorkCRM         Online_Tech               5000   \n",
       "28896                    CorMatrix             Medical           24860032   \n",
       "28897                    Cormedics             Medical            1000000   \n",
       "28898                     CorMedix             Medical            6469973   \n",
       "\n",
       "          status  funding_rounds State_code          City  founded_at  \\\n",
       "0       acquired               1         NY      New York  2012-06-01   \n",
       "1      operating               2         CA   Los Angeles        None   \n",
       "2      operating               1         CA  Santa Monica  2006-02-22   \n",
       "3      operating               2         CA  Santa Monica  1999-11-01   \n",
       "4      operating               4         NJ      Cranbury  2000-01-01   \n",
       "...          ...             ...        ...           ...         ...   \n",
       "28894  operating               1         CA    Menlo Park        None   \n",
       "28895  operating               1         MI  East Lansing  2013-01-01   \n",
       "28896  operating               2         GA       Roswell  2001-12-01   \n",
       "28897  operating               2         TX       Houston        None   \n",
       "28898  operating               3         NJ   Bridgewater  2006-01-01   \n",
       "\n",
       "      company_name acquired_at  price_amount  \n",
       "0         #waywire  2013-10-17           NaN  \n",
       "1              NaN         NaN           NaN  \n",
       "2              NaN         NaN           NaN  \n",
       "3              NaN         NaN           NaN  \n",
       "4              NaN         NaN           NaN  \n",
       "...            ...         ...           ...  \n",
       "28894          NaN         NaN           NaN  \n",
       "28895          NaN         NaN           NaN  \n",
       "28896          NaN         NaN           NaN  \n",
       "28897          NaN         NaN           NaN  \n",
       "28898          NaN         NaN           NaN  \n",
       "\n",
       "[28899 rows x 11 columns]"
      ],
      "text/html": "<div>\n<style scoped>\n    .dataframe tbody tr th:only-of-type {\n        vertical-align: middle;\n    }\n\n    .dataframe tbody tr th {\n        vertical-align: top;\n    }\n\n    .dataframe thead th {\n        text-align: right;\n    }\n</style>\n<table border=\"1\" class=\"dataframe\">\n  <thead>\n    <tr style=\"text-align: right;\">\n      <th></th>\n      <th>name</th>\n      <th>market</th>\n      <th>funding_total_usd</th>\n      <th>status</th>\n      <th>funding_rounds</th>\n      <th>State_code</th>\n      <th>City</th>\n      <th>founded_at</th>\n      <th>company_name</th>\n      <th>acquired_at</th>\n      <th>price_amount</th>\n    </tr>\n  </thead>\n  <tbody>\n    <tr>\n      <th>0</th>\n      <td>#waywire</td>\n      <td>Art</td>\n      <td>1750000</td>\n      <td>acquired</td>\n      <td>1</td>\n      <td>NY</td>\n      <td>New York</td>\n      <td>2012-06-01</td>\n      <td>#waywire</td>\n      <td>2013-10-17</td>\n      <td>NaN</td>\n    </tr>\n    <tr>\n      <th>1</th>\n      <td>&amp;TV Communications</td>\n      <td>Gaming</td>\n      <td>4000000</td>\n      <td>operating</td>\n      <td>2</td>\n      <td>CA</td>\n      <td>Los Angeles</td>\n      <td>None</td>\n      <td>NaN</td>\n      <td>NaN</td>\n      <td>NaN</td>\n    </tr>\n    <tr>\n      <th>2</th>\n      <td>CornerBlue</td>\n      <td>Online_Tech</td>\n      <td>300000</td>\n      <td>operating</td>\n      <td>1</td>\n      <td>CA</td>\n      <td>Santa Monica</td>\n      <td>2006-02-22</td>\n      <td>NaN</td>\n      <td>NaN</td>\n      <td>NaN</td>\n    </tr>\n    <tr>\n      <th>3</th>\n      <td>Cornerstone OnDemand</td>\n      <td>Corporate_Services</td>\n      <td>44700000</td>\n      <td>operating</td>\n      <td>2</td>\n      <td>CA</td>\n      <td>Santa Monica</td>\n      <td>1999-11-01</td>\n      <td>NaN</td>\n      <td>NaN</td>\n      <td>NaN</td>\n    </tr>\n    <tr>\n      <th>4</th>\n      <td>Cornerstone Pharmaceuticals</td>\n      <td>Medical</td>\n      <td>19179100</td>\n      <td>operating</td>\n      <td>4</td>\n      <td>NJ</td>\n      <td>Cranbury</td>\n      <td>2000-01-01</td>\n      <td>NaN</td>\n      <td>NaN</td>\n      <td>NaN</td>\n    </tr>\n    <tr>\n      <th>...</th>\n      <td>...</td>\n      <td>...</td>\n      <td>...</td>\n      <td>...</td>\n      <td>...</td>\n      <td>...</td>\n      <td>...</td>\n      <td>...</td>\n      <td>...</td>\n      <td>...</td>\n      <td>...</td>\n    </tr>\n    <tr>\n      <th>28894</th>\n      <td>Corium International</td>\n      <td>Medical</td>\n      <td>40000000</td>\n      <td>operating</td>\n      <td>1</td>\n      <td>CA</td>\n      <td>Menlo Park</td>\n      <td>None</td>\n      <td>NaN</td>\n      <td>NaN</td>\n      <td>NaN</td>\n    </tr>\n    <tr>\n      <th>28895</th>\n      <td>CorkCRM</td>\n      <td>Online_Tech</td>\n      <td>5000</td>\n      <td>operating</td>\n      <td>1</td>\n      <td>MI</td>\n      <td>East Lansing</td>\n      <td>2013-01-01</td>\n      <td>NaN</td>\n      <td>NaN</td>\n      <td>NaN</td>\n    </tr>\n    <tr>\n      <th>28896</th>\n      <td>CorMatrix</td>\n      <td>Medical</td>\n      <td>24860032</td>\n      <td>operating</td>\n      <td>2</td>\n      <td>GA</td>\n      <td>Roswell</td>\n      <td>2001-12-01</td>\n      <td>NaN</td>\n      <td>NaN</td>\n      <td>NaN</td>\n    </tr>\n    <tr>\n      <th>28897</th>\n      <td>Cormedics</td>\n      <td>Medical</td>\n      <td>1000000</td>\n      <td>operating</td>\n      <td>2</td>\n      <td>TX</td>\n      <td>Houston</td>\n      <td>None</td>\n      <td>NaN</td>\n      <td>NaN</td>\n      <td>NaN</td>\n    </tr>\n    <tr>\n      <th>28898</th>\n      <td>CorMedix</td>\n      <td>Medical</td>\n      <td>6469973</td>\n      <td>operating</td>\n      <td>3</td>\n      <td>NJ</td>\n      <td>Bridgewater</td>\n      <td>2006-01-01</td>\n      <td>NaN</td>\n      <td>NaN</td>\n      <td>NaN</td>\n    </tr>\n  </tbody>\n</table>\n<p>28899 rows × 11 columns</p>\n</div>"
     },
     "metadata": {},
     "execution_count": 46
    }
   ],
   "source": [
    "full_df"
   ]
  },
  {
   "cell_type": "code",
   "execution_count": 47,
   "metadata": {},
   "outputs": [],
   "source": [
    "full_df.to_csv('cleaned.csv')"
   ]
  },
  {
   "cell_type": "code",
   "execution_count": null,
   "metadata": {},
   "outputs": [],
   "source": []
  }
 ],
 "metadata": {
  "kernelspec": {
   "display_name": "Python 3",
   "language": "python",
   "name": "python3"
  },
  "language_info": {
   "codemirror_mode": {
    "name": "ipython",
    "version": 3
   },
   "file_extension": ".py",
   "mimetype": "text/x-python",
   "name": "python",
   "nbconvert_exporter": "python",
   "pygments_lexer": "ipython3",
   "version": "3.7.9-final"
  }
 },
 "nbformat": 4,
 "nbformat_minor": 4
}